{
 "cells": [
  {
   "cell_type": "code",
   "execution_count": 1,
   "id": "67f9b3be",
   "metadata": {},
   "outputs": [
    {
     "data": {
      "text/html": [
       "<div>\n",
       "<style scoped>\n",
       "    .dataframe tbody tr th:only-of-type {\n",
       "        vertical-align: middle;\n",
       "    }\n",
       "\n",
       "    .dataframe tbody tr th {\n",
       "        vertical-align: top;\n",
       "    }\n",
       "\n",
       "    .dataframe thead th {\n",
       "        text-align: right;\n",
       "    }\n",
       "</style>\n",
       "<table border=\"1\" class=\"dataframe\">\n",
       "  <thead>\n",
       "    <tr style=\"text-align: right;\">\n",
       "      <th></th>\n",
       "      <th>category</th>\n",
       "      <th>score</th>\n",
       "    </tr>\n",
       "  </thead>\n",
       "  <tbody>\n",
       "    <tr>\n",
       "      <th>0</th>\n",
       "      <td>A</td>\n",
       "      <td>90</td>\n",
       "    </tr>\n",
       "    <tr>\n",
       "      <th>1</th>\n",
       "      <td>B</td>\n",
       "      <td>80</td>\n",
       "    </tr>\n",
       "    <tr>\n",
       "      <th>2</th>\n",
       "      <td>C</td>\n",
       "      <td>70</td>\n",
       "    </tr>\n",
       "    <tr>\n",
       "      <th>3</th>\n",
       "      <td>D</td>\n",
       "      <td>60</td>\n",
       "    </tr>\n",
       "  </tbody>\n",
       "</table>\n",
       "</div>"
      ],
      "text/plain": [
       "  category  score\n",
       "0        A     90\n",
       "1        B     80\n",
       "2        C     70\n",
       "3        D     60"
      ]
     },
     "execution_count": 1,
     "metadata": {},
     "output_type": "execute_result"
    }
   ],
   "source": [
    "import pandas as pd\n",
    "\n",
    "# Create a simple dataframe with 'category' and 'score' columns\n",
    "data = {\n",
    "    'category': ['A', 'B', 'C', 'D'],\n",
    "    'score': [90, 80, 70, 60]\n",
    "}\n",
    "\n",
    "df = pd.DataFrame(data)\n",
    "\n",
    "df"
   ]
  },
  {
   "cell_type": "code",
   "execution_count": 5,
   "id": "639e2429",
   "metadata": {
    "collapsed": true
   },
   "outputs": [
    {
     "name": "stderr",
     "output_type": "stream",
     "text": [
      "/var/folders/j_/__64n8zj7cl2_v79xs0k7lpm0000gn/T/ipykernel_48673/1465078696.py:1: SettingWithCopyWarning: \n",
      "A value is trying to be set on a copy of a slice from a DataFrame\n",
      "\n",
      "See the caveats in the documentation: https://pandas.pydata.org/pandas-docs/stable/user_guide/indexing.html#returning-a-view-versus-a-copy\n",
      "  df[\"category\"][0] = \"Extroversion / Introversion\"\n"
     ]
    }
   ],
   "source": [
    "df[\"category\"][0] = \"Extroversion / Introversion\""
   ]
  },
  {
   "cell_type": "code",
   "execution_count": 6,
   "id": "d17ea306",
   "metadata": {
    "collapsed": true
   },
   "outputs": [
    {
     "name": "stderr",
     "output_type": "stream",
     "text": [
      "/var/folders/j_/__64n8zj7cl2_v79xs0k7lpm0000gn/T/ipykernel_48673/926108538.py:1: SettingWithCopyWarning: \n",
      "A value is trying to be set on a copy of a slice from a DataFrame\n",
      "\n",
      "See the caveats in the documentation: https://pandas.pydata.org/pandas-docs/stable/user_guide/indexing.html#returning-a-view-versus-a-copy\n",
      "  df[\"category\"][1] = \"Sensing / Intuition\"\n"
     ]
    }
   ],
   "source": [
    "df[\"category\"][1] = \"Sensing / Intuition\""
   ]
  },
  {
   "cell_type": "code",
   "execution_count": 7,
   "id": "e2eda5e0",
   "metadata": {
    "collapsed": true
   },
   "outputs": [
    {
     "name": "stderr",
     "output_type": "stream",
     "text": [
      "/var/folders/j_/__64n8zj7cl2_v79xs0k7lpm0000gn/T/ipykernel_48673/639279489.py:1: SettingWithCopyWarning: \n",
      "A value is trying to be set on a copy of a slice from a DataFrame\n",
      "\n",
      "See the caveats in the documentation: https://pandas.pydata.org/pandas-docs/stable/user_guide/indexing.html#returning-a-view-versus-a-copy\n",
      "  df[\"category\"][2] = \"Thinking / Feeling\"\n"
     ]
    }
   ],
   "source": [
    "df[\"category\"][2] = \"Thinking / Feeling\""
   ]
  },
  {
   "cell_type": "code",
   "execution_count": 8,
   "id": "b7daf897",
   "metadata": {
    "collapsed": true
   },
   "outputs": [
    {
     "name": "stderr",
     "output_type": "stream",
     "text": [
      "/var/folders/j_/__64n8zj7cl2_v79xs0k7lpm0000gn/T/ipykernel_48673/3221443838.py:1: SettingWithCopyWarning: \n",
      "A value is trying to be set on a copy of a slice from a DataFrame\n",
      "\n",
      "See the caveats in the documentation: https://pandas.pydata.org/pandas-docs/stable/user_guide/indexing.html#returning-a-view-versus-a-copy\n",
      "  df[\"category\"][3] = \"Judging / Percieving\"\n"
     ]
    }
   ],
   "source": [
    "df[\"category\"][3] = \"Judging / Percieving\""
   ]
  },
  {
   "cell_type": "code",
   "execution_count": 10,
   "id": "53f6a1e5",
   "metadata": {
    "collapsed": true
   },
   "outputs": [
    {
     "name": "stderr",
     "output_type": "stream",
     "text": [
      "/var/folders/j_/__64n8zj7cl2_v79xs0k7lpm0000gn/T/ipykernel_48673/3352426369.py:1: SettingWithCopyWarning: \n",
      "A value is trying to be set on a copy of a slice from a DataFrame\n",
      "\n",
      "See the caveats in the documentation: https://pandas.pydata.org/pandas-docs/stable/user_guide/indexing.html#returning-a-view-versus-a-copy\n",
      "  df[\"score\"][0] = 0.72\n"
     ]
    }
   ],
   "source": [
    "df[\"score\"][0] = 0.72"
   ]
  },
  {
   "cell_type": "code",
   "execution_count": 11,
   "id": "d2845ee7",
   "metadata": {},
   "outputs": [],
   "source": [
    "df[\"score\"][1] = 0.66"
   ]
  },
  {
   "cell_type": "code",
   "execution_count": 12,
   "id": "a43aa8d0",
   "metadata": {},
   "outputs": [],
   "source": [
    "df[\"score\"][2] = 0.71"
   ]
  },
  {
   "cell_type": "code",
   "execution_count": 13,
   "id": "6fc030f6",
   "metadata": {},
   "outputs": [],
   "source": [
    "df[\"score\"][3] = 0.62"
   ]
  },
  {
   "cell_type": "code",
   "execution_count": 22,
   "id": "aed52cb7",
   "metadata": {
    "collapsed": true
   },
   "outputs": [
    {
     "name": "stderr",
     "output_type": "stream",
     "text": [
      "/var/folders/j_/__64n8zj7cl2_v79xs0k7lpm0000gn/T/ipykernel_48673/3263086030.py:1: SettingWithCopyWarning: \n",
      "A value is trying to be set on a copy of a slice from a DataFrame\n",
      "\n",
      "See the caveats in the documentation: https://pandas.pydata.org/pandas-docs/stable/user_guide/indexing.html#returning-a-view-versus-a-copy\n",
      "  df[\"baseline\"][0] = 0.53\n"
     ]
    }
   ],
   "source": [
    "df[\"baseline\"][0] = 0.53"
   ]
  },
  {
   "cell_type": "code",
   "execution_count": 24,
   "id": "8783916f",
   "metadata": {
    "collapsed": true
   },
   "outputs": [
    {
     "name": "stderr",
     "output_type": "stream",
     "text": [
      "/var/folders/j_/__64n8zj7cl2_v79xs0k7lpm0000gn/T/ipykernel_48673/3744516477.py:1: SettingWithCopyWarning: \n",
      "A value is trying to be set on a copy of a slice from a DataFrame\n",
      "\n",
      "See the caveats in the documentation: https://pandas.pydata.org/pandas-docs/stable/user_guide/indexing.html#returning-a-view-versus-a-copy\n",
      "  df[\"baseline\"][1] = 0.57\n"
     ]
    }
   ],
   "source": [
    "df[\"baseline\"][1] = 0.57"
   ]
  },
  {
   "cell_type": "code",
   "execution_count": 23,
   "id": "d5056465",
   "metadata": {
    "collapsed": true
   },
   "outputs": [
    {
     "name": "stderr",
     "output_type": "stream",
     "text": [
      "/var/folders/j_/__64n8zj7cl2_v79xs0k7lpm0000gn/T/ipykernel_48673/770347614.py:1: SettingWithCopyWarning: \n",
      "A value is trying to be set on a copy of a slice from a DataFrame\n",
      "\n",
      "See the caveats in the documentation: https://pandas.pydata.org/pandas-docs/stable/user_guide/indexing.html#returning-a-view-versus-a-copy\n",
      "  df[\"baseline\"][2] = 0.50\n"
     ]
    }
   ],
   "source": [
    "df[\"baseline\"][2] = 0.50"
   ]
  },
  {
   "cell_type": "code",
   "execution_count": 25,
   "id": "abb97119",
   "metadata": {
    "collapsed": true
   },
   "outputs": [
    {
     "name": "stderr",
     "output_type": "stream",
     "text": [
      "/var/folders/j_/__64n8zj7cl2_v79xs0k7lpm0000gn/T/ipykernel_48673/2723396171.py:1: SettingWithCopyWarning: \n",
      "A value is trying to be set on a copy of a slice from a DataFrame\n",
      "\n",
      "See the caveats in the documentation: https://pandas.pydata.org/pandas-docs/stable/user_guide/indexing.html#returning-a-view-versus-a-copy\n",
      "  df[\"baseline\"][3] = 0.55\n"
     ]
    }
   ],
   "source": [
    "df[\"baseline\"][3] = 0.55"
   ]
  },
  {
   "cell_type": "code",
   "execution_count": 26,
   "id": "c47105ff",
   "metadata": {},
   "outputs": [
    {
     "data": {
      "text/html": [
       "<div>\n",
       "<style scoped>\n",
       "    .dataframe tbody tr th:only-of-type {\n",
       "        vertical-align: middle;\n",
       "    }\n",
       "\n",
       "    .dataframe tbody tr th {\n",
       "        vertical-align: top;\n",
       "    }\n",
       "\n",
       "    .dataframe thead th {\n",
       "        text-align: right;\n",
       "    }\n",
       "</style>\n",
       "<table border=\"1\" class=\"dataframe\">\n",
       "  <thead>\n",
       "    <tr style=\"text-align: right;\">\n",
       "      <th></th>\n",
       "      <th>category</th>\n",
       "      <th>score</th>\n",
       "      <th>baseline</th>\n",
       "    </tr>\n",
       "  </thead>\n",
       "  <tbody>\n",
       "    <tr>\n",
       "      <th>0</th>\n",
       "      <td>Extroversion / Introversion</td>\n",
       "      <td>0.72</td>\n",
       "      <td>0.53</td>\n",
       "    </tr>\n",
       "    <tr>\n",
       "      <th>1</th>\n",
       "      <td>Sensing / Intuition</td>\n",
       "      <td>0.66</td>\n",
       "      <td>0.57</td>\n",
       "    </tr>\n",
       "    <tr>\n",
       "      <th>2</th>\n",
       "      <td>Thinking / Feeling</td>\n",
       "      <td>0.71</td>\n",
       "      <td>0.50</td>\n",
       "    </tr>\n",
       "    <tr>\n",
       "      <th>3</th>\n",
       "      <td>Judging / Percieving</td>\n",
       "      <td>0.62</td>\n",
       "      <td>0.55</td>\n",
       "    </tr>\n",
       "  </tbody>\n",
       "</table>\n",
       "</div>"
      ],
      "text/plain": [
       "                      category  score  baseline\n",
       "0  Extroversion / Introversion   0.72      0.53\n",
       "1          Sensing / Intuition   0.66      0.57\n",
       "2           Thinking / Feeling   0.71      0.50\n",
       "3         Judging / Percieving   0.62      0.55"
      ]
     },
     "execution_count": 26,
     "metadata": {},
     "output_type": "execute_result"
    }
   ],
   "source": [
    "df"
   ]
  },
  {
   "cell_type": "code",
   "execution_count": null,
   "id": "6650843c",
   "metadata": {},
   "outputs": [],
   "source": []
  },
  {
   "cell_type": "code",
   "execution_count": 17,
   "id": "30ef3423",
   "metadata": {},
   "outputs": [],
   "source": [
    "import seaborn as sns\n",
    "import matplotlib.pyplot as plt"
   ]
  },
  {
   "cell_type": "code",
   "execution_count": 35,
   "id": "600e0ed4",
   "metadata": {},
   "outputs": [],
   "source": [
    "palette = [\"#9B59B6\", \"#3498DB\", \"#D4AC0D\", \"#2CAE66\"]"
   ]
  },
  {
   "cell_type": "code",
   "execution_count": 54,
   "id": "359f4a7a",
   "metadata": {},
   "outputs": [],
   "source": [
    "import os\n",
    "path = os.getcwd()"
   ]
  },
  {
   "cell_type": "code",
   "execution_count": 59,
   "id": "5ac939fb",
   "metadata": {},
   "outputs": [],
   "source": [
    "import matplotlib.font_manager as font_manager\n",
    "from matplotlib.font_manager import fontManager\n",
    "\n",
    "font_path = path + \"/fonts/Comfortaa-Medium.ttf\"\n",
    "font_manager.fontManager.addfont(font_path)\n",
    "plt.rcParams['font.family'] = 'Comfortaa'"
   ]
  },
  {
   "cell_type": "code",
   "execution_count": 71,
   "id": "e05bbf18",
   "metadata": {},
   "outputs": [
    {
     "data": {
      "image/png": "[encoded data removed]",
      "text/plain": [
       "<Figure size 800x600 with 1 Axes>"
      ]
     },
     "metadata": {},
     "output_type": "display_data"
    }
   ],
   "source": [
    "# Creating a bar plot\n",
    "plt.figure(figsize=(8, 6))\n",
    "barplot = sns.barplot(data=df, x=\"category\", y=\"score\", palette=palette)\n",
    "\n",
    "for index, row in df.iterrows():\n",
    "    plt.hlines(y=row['baseline'], xmin=barplot.patches[index].get_x(), \n",
    "               xmax=barplot.patches[index].get_x() + barplot.patches[index].get_width(), color='black')\n",
    "\n",
    "sns.despine(top=True,\n",
    "    right=True,\n",
    "    left=True,\n",
    "    bottom=True,\n",
    "    offset=None,\n",
    "    trim=True)    \n",
    "\n",
    "# Rotating the x-axis labels\n",
    "plt.ylabel(\"\")\n",
    "plt.xlabel(\"\")\n",
    "\n",
    "plt.xticks(rotation=15, ha=\"right\")\n",
    "plt.ylim(0.45)\n",
    "\n",
    "# Display the plot\n",
    "plt.tight_layout()\n",
    "plt.savefig(path + \"/graphs/performance.png\", transparent=True, dpi=300)"
   ]
  },
  {
   "cell_type": "code",
   "execution_count": 73,
   "id": "a98bd1e6",
   "metadata": {},
   "outputs": [
    {
     "data": {
      "image/png": "[encoded data removed]",
      "text/plain": [
       "<Figure size 800x600 with 1 Axes>"
      ]
     },
     "metadata": {},
     "output_type": "display_data"
    }
   ],
   "source": [
    "# Creating a bar plot\n",
    "plt.figure(figsize=(8, 6))\n",
    "barplot = sns.barplot(data=df, x=\"category\", y=\"score\", palette=[palette[0], \"grey\", palette[2], \"grey\"])\n",
    "\n",
    "for index, row in df.iterrows():\n",
    "    plt.hlines(y=row['baseline'], xmin=barplot.patches[index].get_x(), \n",
    "               xmax=barplot.patches[index].get_x() + barplot.patches[index].get_width(), \n",
    "               color=\"black\")\n",
    "\n",
    "sns.despine(top=True,\n",
    "    right=True,\n",
    "    left=True,\n",
    "    bottom=True,\n",
    "    offset=None,\n",
    "    trim=True)    \n",
    "\n",
    "# Rotating the x-axis labels\n",
    "plt.ylabel(\"\")\n",
    "plt.xlabel(\"\")\n",
    "\n",
    "plt.xticks(rotation=15, ha=\"right\")\n",
    "plt.ylim(0.45)\n",
    "\n",
    "# Display the plot\n",
    "plt.tight_layout()\n",
    "plt.savefig(path + \"/graphs/performance_best.png\", transparent=True, dpi=300)"
   ]
  },
  {
   "cell_type": "code",
   "execution_count": 77,
   "id": "4159b115",
   "metadata": {},
   "outputs": [
    {
     "data": {
      "image/png": "[encoded data removed]",
      "text/plain": [
       "<Figure size 800x600 with 1 Axes>"
      ]
     },
     "metadata": {},
     "output_type": "display_data"
    }
   ],
   "source": [
    "# Creating a bar plot\n",
    "plt.figure(figsize=(8, 6))\n",
    "barplot = sns.barplot(data=df, x=\"category\", y=\"score\", palette=[\"grey\", palette[1], \"grey\", palette[3]])\n",
    "\n",
    "for index, row in df.iterrows():\n",
    "    plt.hlines(y=row['baseline'], xmin=barplot.patches[index].get_x(), \n",
    "               xmax=barplot.patches[index].get_x() + barplot.patches[index].get_width(), \n",
    "               color=\"black\")\n",
    "\n",
    "sns.despine(top=True,\n",
    "    right=True,\n",
    "    left=True,\n",
    "    bottom=True,\n",
    "    offset=None,\n",
    "    trim=True)    \n",
    "\n",
    "# Rotating the x-axis labels\n",
    "plt.ylabel(\"\")\n",
    "plt.xlabel(\"\")\n",
    "\n",
    "plt.xticks(rotation=15, ha=\"right\")\n",
    "plt.ylim(0.45)\n",
    "\n",
    "# Display the plot\n",
    "plt.tight_layout()\n",
    "plt.savefig(path + \"/graphs/performance_worst.png\", transparent=True, dpi=300)"
   ]
  },
  {
   "cell_type": "code",
   "execution_count": null,
   "id": "a2476ce3",
   "metadata": {},
   "outputs": [],
   "source": []
  },
  {
   "cell_type": "code",
   "execution_count": 37,
   "id": "4c7f722b",
   "metadata": {},
   "outputs": [
    {
     "data": {
      "text/html": [
       "<div>\n",
       "<style scoped>\n",
       "    .dataframe tbody tr th:only-of-type {\n",
       "        vertical-align: middle;\n",
       "    }\n",
       "\n",
       "    .dataframe tbody tr th {\n",
       "        vertical-align: top;\n",
       "    }\n",
       "\n",
       "    .dataframe thead th {\n",
       "        text-align: right;\n",
       "    }\n",
       "</style>\n",
       "<table border=\"1\" class=\"dataframe\">\n",
       "  <thead>\n",
       "    <tr style=\"text-align: right;\">\n",
       "      <th></th>\n",
       "      <th>category</th>\n",
       "      <th>score</th>\n",
       "      <th>baseline</th>\n",
       "    </tr>\n",
       "  </thead>\n",
       "  <tbody>\n",
       "    <tr>\n",
       "      <th>0</th>\n",
       "      <td>Extroversion / Introversion</td>\n",
       "      <td>0.72</td>\n",
       "      <td>0.53</td>\n",
       "    </tr>\n",
       "    <tr>\n",
       "      <th>1</th>\n",
       "      <td>Sensing / Intuition</td>\n",
       "      <td>0.66</td>\n",
       "      <td>0.57</td>\n",
       "    </tr>\n",
       "    <tr>\n",
       "      <th>2</th>\n",
       "      <td>Thinking / Feeling</td>\n",
       "      <td>0.71</td>\n",
       "      <td>0.50</td>\n",
       "    </tr>\n",
       "    <tr>\n",
       "      <th>3</th>\n",
       "      <td>Judging / Percieving</td>\n",
       "      <td>0.62</td>\n",
       "      <td>0.55</td>\n",
       "    </tr>\n",
       "  </tbody>\n",
       "</table>\n",
       "</div>"
      ],
      "text/plain": [
       "                      category  score  baseline\n",
       "0  Extroversion / Introversion   0.72      0.53\n",
       "1          Sensing / Intuition   0.66      0.57\n",
       "2           Thinking / Feeling   0.71      0.50\n",
       "3         Judging / Percieving   0.62      0.55"
      ]
     },
     "execution_count": 37,
     "metadata": {},
     "output_type": "execute_result"
    }
   ],
   "source": [
    "df"
   ]
  },
  {
   "cell_type": "code",
   "execution_count": null,
   "id": "27608503",
   "metadata": {},
   "outputs": [],
   "source": []
  }
 ],
 "metadata": {
  "kernelspec": {
   "display_name": "Python 3 (ipykernel)",
   "language": "python",
   "name": "python3"
  },
  "language_info": {
   "codemirror_mode": {
    "name": "ipython",
    "version": 3
   },
   "file_extension": ".py",
   "mimetype": "text/x-python",
   "name": "python",
   "nbconvert_exporter": "python",
   "pygments_lexer": "ipython3",
   "version": "3.11.8"
  }
 },
 "nbformat": 4,
 "nbformat_minor": 5
}
